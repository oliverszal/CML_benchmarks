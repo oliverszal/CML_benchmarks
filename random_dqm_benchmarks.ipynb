{
 "cells": [
  {
   "cell_type": "code",
   "execution_count": 1,
   "metadata": {},
   "outputs": [],
   "source": [
    "import dimod\n",
    "import numpy as np\n",
    "import pprint\n",
    "import dwave_token\n",
    "import dwave.inspector\n",
    "\n",
    "from dwave.system import LeapHybridDQMSampler\n",
    "\n",
    "sampler = LeapHybridDQMSampler(token=dwave_token.value)"
   ]
  },
  {
   "cell_type": "code",
   "execution_count": 2,
   "metadata": {},
   "outputs": [
    {
     "name": "stdout",
     "output_type": "stream",
     "text": [
      "[[ 5.46539726  3.86898609  3.4216843  -9.28567865  9.36999383]\n",
      " [ 0.          5.58011197  1.39792253 -6.99641631  7.88625765]\n",
      " [ 0.          0.          7.49552793 -8.6162508   2.90430877]\n",
      " [ 0.          0.          0.         -4.74775445 -1.58233507]\n",
      " [ 0.          0.          0.          0.         -3.25219139]]\n",
      "Variables(['x0', 'x1', 'x2', 'x3', 'x4'])\n"
     ]
    }
   ],
   "source": [
    "n = 5\n",
    "scaling = 10\n",
    "\n",
    "# generate random upper triangle matrix\n",
    "Q = scaling*np.triu(-1+2*np.random.rand(n,n))\n",
    "print(Q)\n",
    "# convert into tertiary quadratic model\n",
    "dqm = dimod.DiscreteQuadraticModel()\n",
    "for i in range(n):\n",
    "    name = 'x'+str(i)\n",
    "    dqm.add_variable(3, label=name)\n",
    "    dqm.set_linear_case(name, 1, Q[i,i])\n",
    "    dqm.set_linear_case(name, 2, 4*Q[i,i])\n",
    "for i in range(n):\n",
    "    var1 = 'x'+str(i)\n",
    "    for j in range(i+1,n):\n",
    "        var2 = 'x'+str(j)\n",
    "        dqm.set_quadratic(var1, var2, {(1, 1): Q[i,j], (1, 2): 2*Q[i,j], (2, 1): 2*Q[i,j], (2, 2): 4*Q[i,j]})\n",
    "print(dqm.variables)"
   ]
  },
  {
   "cell_type": "code",
   "execution_count": 9,
   "metadata": {},
   "outputs": [
    {
     "name": "stdout",
     "output_type": "stream",
     "text": [
      "minimum: -42.257479723855695\n"
     ]
    }
   ],
   "source": [
    "# run calculation\n",
    "time_limit = 5\n",
    "sampleset = sampler.sample_dqm(\n",
    "    dqm,\n",
    "    time_limit=time_limit,\n",
    ")\n",
    "print('minimum: ' + str(sampleset.lowest().first.energy))"
   ]
  },
  {
   "cell_type": "code",
   "execution_count": 10,
   "metadata": {},
   "outputs": [
    {
     "name": "stdout",
     "output_type": "stream",
     "text": [
      "{'charge_time': 5000000,\n",
      " 'problem_id': '132b6784-8644-4b13-9f1e-31702674ba92',\n",
      " 'qpu_access_time': 31735,\n",
      " 'run_time': 5098566}\n"
     ]
    }
   ],
   "source": [
    "#print(sampleset)\n",
    "pprint.pprint(sampleset.info)"
   ]
  },
  {
   "cell_type": "code",
   "execution_count": null,
   "metadata": {},
   "outputs": [],
   "source": []
  }
 ],
 "metadata": {
  "kernelspec": {
   "display_name": "Python 3",
   "language": "python",
   "name": "python3"
  },
  "language_info": {
   "codemirror_mode": {
    "name": "ipython",
    "version": 3
   },
   "file_extension": ".py",
   "mimetype": "text/x-python",
   "name": "python",
   "nbconvert_exporter": "python",
   "pygments_lexer": "ipython3",
   "version": "3.11.7"
  }
 },
 "nbformat": 4,
 "nbformat_minor": 2
}
