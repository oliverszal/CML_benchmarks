{
 "cells": [
  {
   "cell_type": "code",
   "execution_count": 57,
   "metadata": {},
   "outputs": [],
   "source": [
    "import dimod\n",
    "import numpy as np\n",
    "import dwave_token\n",
    "import dwave.inspector\n",
    "\n",
    "from dwave.system import DWaveSampler, EmbeddingComposite\n",
    "# from dwave.system import LeapHybridCQMSampler\n",
    "\n",
    "sampler = EmbeddingComposite(DWaveSampler(token=dwave_token.value))"
   ]
  },
  {
   "cell_type": "code",
   "execution_count": 65,
   "metadata": {},
   "outputs": [
    {
     "name": "stdout",
     "output_type": "stream",
     "text": [
      "[[ 1.77522819 -4.32948214]\n",
      " [ 0.85416873 -4.22825839]]\n"
     ]
    }
   ],
   "source": [
    "n = 5\n",
    "scaling = 10\n",
    "\n",
    "variables = ['x_' + str(i) for i in range(n)]\n",
    "Q = scaling*(-1+2*np.random.rand(n,n))\n",
    "bqm = {(variables[i],variables[j]): 0 for i in range(n) for j in range(n)}\n",
    "for i in range(n):\n",
    "    for j in range(n):\n",
    "        bqm[(variables[i],variables[j])] = Q[i,j]\n",
    "print(Q)"
   ]
  },
  {
   "cell_type": "code",
   "execution_count": 66,
   "metadata": {},
   "outputs": [
    {
     "ename": "BinaryQuadraticModelStructureError",
     "evalue": "Problem graph incompatible with solver. Please use 'EmbeddingComposite' to map the problem graph to the solver.",
     "output_type": "error",
     "traceback": [
      "\u001b[1;31m---------------------------------------------------------------------------\u001b[0m",
      "\u001b[1;31mProblemStructureError\u001b[0m                     Traceback (most recent call last)",
      "File \u001b[1;32m~\\AppData\\Roaming\\Python\\Python39\\site-packages\\dwave\\system\\samplers\\dwave_sampler.py:413\u001b[0m, in \u001b[0;36mDWaveSampler.sample\u001b[1;34m(self, bqm, warnings, **kwargs)\u001b[0m\n\u001b[0;32m    412\u001b[0m \u001b[39mtry\u001b[39;00m:\n\u001b[1;32m--> 413\u001b[0m     future \u001b[39m=\u001b[39m solver\u001b[39m.\u001b[39msample_bqm(bqm, \u001b[39m*\u001b[39m\u001b[39m*\u001b[39mkwargs)\n\u001b[0;32m    414\u001b[0m \u001b[39mexcept\u001b[39;00m ProblemStructureError \u001b[39mas\u001b[39;00m exc:\n",
      "File \u001b[1;32m~\\AppData\\Roaming\\Python\\Python39\\site-packages\\dwave\\cloud\\solver.py:992\u001b[0m, in \u001b[0;36mStructuredSolver.sample_bqm\u001b[1;34m(self, bqm, label, **params)\u001b[0m\n\u001b[0;32m    990\u001b[0m     \u001b[39mraise\u001b[39;00m \u001b[39mTypeError\u001b[39;00m(\u001b[39m\"\u001b[39m\u001b[39munknown/unsupported vartype\u001b[39m\u001b[39m\"\u001b[39m)\n\u001b[1;32m--> 992\u001b[0m \u001b[39mreturn\u001b[39;00m \u001b[39mself\u001b[39;49m\u001b[39m.\u001b[39;49m_sample(problem_type, bqm\u001b[39m.\u001b[39;49mlinear, bqm\u001b[39m.\u001b[39;49mquadratic, bqm\u001b[39m.\u001b[39;49moffset,\n\u001b[0;32m    993\u001b[0m                     params, label\u001b[39m=\u001b[39;49mlabel, undirected_biases\u001b[39m=\u001b[39;49m\u001b[39mTrue\u001b[39;49;00m)\n",
      "File \u001b[1;32m~\\AppData\\Roaming\\Python\\Python39\\site-packages\\dwave\\cloud\\events.py:105\u001b[0m, in \u001b[0;36mdispatches_events.__call__.<locals>.wrapped\u001b[1;34m(*pargs, **kwargs)\u001b[0m\n\u001b[0;32m    104\u001b[0m \u001b[39mtry\u001b[39;00m:\n\u001b[1;32m--> 105\u001b[0m     rval \u001b[39m=\u001b[39m fn(\u001b[39m*\u001b[39mpargs, \u001b[39m*\u001b[39m\u001b[39m*\u001b[39mkwargs)\n\u001b[0;32m    106\u001b[0m \u001b[39mexcept\u001b[39;00m \u001b[39mException\u001b[39;00m \u001b[39mas\u001b[39;00m exc:\n",
      "File \u001b[1;32m~\\AppData\\Roaming\\Python\\Python39\\site-packages\\dwave\\cloud\\solver.py:1027\u001b[0m, in \u001b[0;36mStructuredSolver._sample\u001b[1;34m(self, type_, linear, quadratic, offset, params, label, undirected_biases)\u001b[0m\n\u001b[0;32m   1026\u001b[0m \u001b[39mif\u001b[39;00m \u001b[39mnot\u001b[39;00m \u001b[39mself\u001b[39m\u001b[39m.\u001b[39mcheck_problem(linear, quadratic):\n\u001b[1;32m-> 1027\u001b[0m     \u001b[39mraise\u001b[39;00m ProblemStructureError(\n\u001b[0;32m   1028\u001b[0m         \u001b[39mf\u001b[39m\u001b[39m\"\u001b[39m\u001b[39mProblem graph incompatible with \u001b[39m\u001b[39m{\u001b[39;00m\u001b[39mself\u001b[39m\u001b[39m.\u001b[39mid\u001b[39m}\u001b[39;00m\u001b[39m solver\u001b[39m\u001b[39m\"\u001b[39m)\n\u001b[0;32m   1030\u001b[0m \u001b[39m# Mix the new parameters with the default parameters\u001b[39;00m\n",
      "\u001b[1;31mProblemStructureError\u001b[0m: Problem graph incompatible with Advantage_system6.3 solver",
      "\nThe above exception was the direct cause of the following exception:\n",
      "\u001b[1;31mBinaryQuadraticModelStructureError\u001b[0m        Traceback (most recent call last)",
      "\u001b[1;32mc:\\Users\\oszal\\Documents\\Personal workspace\\random_qubo_benchmarks.ipynb Cell 3\u001b[0m line \u001b[0;36m2\n\u001b[0;32m      <a href='vscode-notebook-cell:/c%3A/Users/oszal/Documents/Personal%20workspace/random_qubo_benchmarks.ipynb#W2sZmlsZQ%3D%3D?line=0'>1</a>\u001b[0m time_limit \u001b[39m=\u001b[39m \u001b[39m2\u001b[39m\n\u001b[1;32m----> <a href='vscode-notebook-cell:/c%3A/Users/oszal/Documents/Personal%20workspace/random_qubo_benchmarks.ipynb#W2sZmlsZQ%3D%3D?line=1'>2</a>\u001b[0m sampleset \u001b[39m=\u001b[39m sampler\u001b[39m.\u001b[39;49msample_qubo(bqm, num_reads\u001b[39m=\u001b[39;49m\u001b[39m100\u001b[39;49m)\n",
      "File \u001b[1;32m~\\AppData\\Roaming\\Python\\Python39\\site-packages\\dimod\\core\\sampler.py:291\u001b[0m, in \u001b[0;36mSampler.sample_qubo\u001b[1;34m(self, Q, **parameters)\u001b[0m\n\u001b[0;32m    271\u001b[0m \u001b[39m\"\"\"Sample from a QUBO using the implemented sample method.\u001b[39;00m\n\u001b[0;32m    272\u001b[0m \n\u001b[0;32m    273\u001b[0m \u001b[39mThis method is inherited from the :class:`.Sampler` base class.\u001b[39;00m\n\u001b[1;32m   (...)\u001b[0m\n\u001b[0;32m    288\u001b[0m \n\u001b[0;32m    289\u001b[0m \u001b[39m\"\"\"\u001b[39;00m\n\u001b[0;32m    290\u001b[0m bqm \u001b[39m=\u001b[39m BinaryQuadraticModel\u001b[39m.\u001b[39mfrom_qubo(Q)\n\u001b[1;32m--> 291\u001b[0m \u001b[39mreturn\u001b[39;00m \u001b[39mself\u001b[39m\u001b[39m.\u001b[39msample(bqm, \u001b[39m*\u001b[39m\u001b[39m*\u001b[39mparameters)\n",
      "File \u001b[1;32m~\\AppData\\Roaming\\Python\\Python39\\site-packages\\dwave\\system\\samplers\\dwave_sampler.py:417\u001b[0m, in \u001b[0;36mDWaveSampler.sample\u001b[1;34m(self, bqm, warnings, **kwargs)\u001b[0m\n\u001b[0;32m    414\u001b[0m \u001b[39mexcept\u001b[39;00m ProblemStructureError \u001b[39mas\u001b[39;00m exc:\n\u001b[0;32m    415\u001b[0m     msg \u001b[39m=\u001b[39m (\u001b[39m\"\u001b[39m\u001b[39mProblem graph incompatible with solver. Please use \u001b[39m\u001b[39m'\u001b[39m\u001b[39mEmbeddingComposite\u001b[39m\u001b[39m'\u001b[39m\u001b[39m \u001b[39m\u001b[39m\"\u001b[39m\n\u001b[0;32m    416\u001b[0m            \u001b[39m\"\u001b[39m\u001b[39mto map the problem graph to the solver.\u001b[39m\u001b[39m\"\u001b[39m)\n\u001b[1;32m--> 417\u001b[0m     \u001b[39mraise\u001b[39;00m BinaryQuadraticModelStructureError(msg) \u001b[39mfrom\u001b[39;00m \u001b[39mexc\u001b[39;00m\n\u001b[0;32m    419\u001b[0m \u001b[39mif\u001b[39;00m warnings \u001b[39mis\u001b[39;00m \u001b[39mNone\u001b[39;00m:\n\u001b[0;32m    420\u001b[0m     warnings \u001b[39m=\u001b[39m \u001b[39mself\u001b[39m\u001b[39m.\u001b[39mwarnings_default\n",
      "\u001b[1;31mBinaryQuadraticModelStructureError\u001b[0m: Problem graph incompatible with solver. Please use 'EmbeddingComposite' to map the problem graph to the solver."
     ]
    }
   ],
   "source": [
    "sampleset = sampler.sample_qubo(bqm, num_reads=100)\n",
    "print(sampleset.lowest().first.energy)"
   ]
  },
  {
   "cell_type": "code",
   "execution_count": 50,
   "metadata": {},
   "outputs": [
    {
     "name": "stdout",
     "output_type": "stream",
     "text": [
      "  x_0 x_1 x_2 x_3 x_4    energy num_oc. chain_.\n",
      "0   1   1   1   0   0 -6.187647      45     0.0\n",
      "1   0   1   0   0   0 -6.083592      49     0.0\n",
      "2   1   0   1   0   0 -5.275195       5     0.0\n",
      "3   0   0   0   0   1 -3.427488       1     0.0\n",
      "['BINARY', 4 rows, 100 samples, 5 variables]\n"
     ]
    }
   ],
   "source": [
    "print(sampleset)\n",
    "print(sampleset.info)"
   ]
  },
  {
   "cell_type": "code",
   "execution_count": 54,
   "metadata": {},
   "outputs": [
    {
     "ename": "RuntimeError",
     "evalue": "threads can only be started once",
     "output_type": "error",
     "traceback": [
      "\u001b[1;31m---------------------------------------------------------------------------\u001b[0m",
      "\u001b[1;31mRuntimeError\u001b[0m                              Traceback (most recent call last)",
      "\u001b[1;32mc:\\Users\\oszal\\Documents\\Personal workspace\\random_qubo_benchmarks.ipynb Cell 8\u001b[0m line \u001b[0;36m1\n\u001b[1;32m----> <a href='vscode-notebook-cell:/c%3A/Users/oszal/Documents/Personal%20workspace/random_qubo_benchmarks.ipynb#W6sZmlsZQ%3D%3D?line=0'>1</a>\u001b[0m dwave\u001b[39m.\u001b[39;49minspector\u001b[39m.\u001b[39;49mshow(sampleset)\n",
      "File \u001b[1;32m~\\AppData\\Roaming\\Python\\Python39\\site-packages\\dwave\\inspector\\__init__.py:192\u001b[0m, in \u001b[0;36mshow\u001b[1;34m(*args, **kwargs)\u001b[0m\n\u001b[0;32m    190\u001b[0m data \u001b[39m=\u001b[39m from_objects(\u001b[39m*\u001b[39margs, \u001b[39m*\u001b[39m\u001b[39m*\u001b[39mkwargs)\n\u001b[0;32m    191\u001b[0m id_ \u001b[39m=\u001b[39m push_inspector_data(data)\n\u001b[1;32m--> 192\u001b[0m \u001b[39mreturn\u001b[39;00m open_problem(id_, block\u001b[39m=\u001b[39;49mblock, timeout\u001b[39m=\u001b[39;49mtimeout)\n",
      "File \u001b[1;32m~\\AppData\\Roaming\\Python\\Python39\\site-packages\\dwave\\inspector\\__init__.py:95\u001b[0m, in \u001b[0;36mopen_problem\u001b[1;34m(problem_id, block, timeout)\u001b[0m\n\u001b[0;32m     92\u001b[0m \u001b[39mif\u001b[39;00m \u001b[39misinstance\u001b[39m(block, \u001b[39mstr\u001b[39m):\n\u001b[0;32m     93\u001b[0m     block \u001b[39m=\u001b[39m Block(block\u001b[39m.\u001b[39mlower())\n\u001b[1;32m---> 95\u001b[0m app_server\u001b[39m.\u001b[39;49mensure_started()\n\u001b[0;32m     96\u001b[0m url \u001b[39m=\u001b[39m app_server\u001b[39m.\u001b[39mget_inspect_url(problem_id)\n\u001b[0;32m     98\u001b[0m external_url \u001b[39m=\u001b[39m rewrite_url(url)\n",
      "File \u001b[1;32m~\\AppData\\Roaming\\Python\\Python39\\site-packages\\dwave\\inspector\\server.py:192\u001b[0m, in \u001b[0;36mWSGIAsyncServer.ensure_started\u001b[1;34m(self)\u001b[0m\n\u001b[0;32m    190\u001b[0m \u001b[39mdef\u001b[39;00m \u001b[39mensure_started\u001b[39m(\u001b[39mself\u001b[39m):\n\u001b[0;32m    191\u001b[0m     \u001b[39mif\u001b[39;00m \u001b[39mnot\u001b[39;00m \u001b[39mself\u001b[39m\u001b[39m.\u001b[39mis_alive():\n\u001b[1;32m--> 192\u001b[0m         \u001b[39mself\u001b[39;49m\u001b[39m.\u001b[39;49mstart()\n\u001b[0;32m    193\u001b[0m         \u001b[39mreturn\u001b[39;00m \u001b[39mself\u001b[39m\u001b[39m.\u001b[39m_ensure_accessible()\n\u001b[0;32m    195\u001b[0m     \u001b[39mreturn\u001b[39;00m \u001b[39mTrue\u001b[39;00m\n",
      "File \u001b[1;32mc:\\Program Files\\Python39\\lib\\threading.py:894\u001b[0m, in \u001b[0;36mThread.start\u001b[1;34m(self)\u001b[0m\n\u001b[0;32m    891\u001b[0m     \u001b[39mraise\u001b[39;00m \u001b[39mRuntimeError\u001b[39;00m(\u001b[39m\"\u001b[39m\u001b[39mthread.__init__() not called\u001b[39m\u001b[39m\"\u001b[39m)\n\u001b[0;32m    893\u001b[0m \u001b[39mif\u001b[39;00m \u001b[39mself\u001b[39m\u001b[39m.\u001b[39m_started\u001b[39m.\u001b[39mis_set():\n\u001b[1;32m--> 894\u001b[0m     \u001b[39mraise\u001b[39;00m \u001b[39mRuntimeError\u001b[39;00m(\u001b[39m\"\u001b[39m\u001b[39mthreads can only be started once\u001b[39m\u001b[39m\"\u001b[39m)\n\u001b[0;32m    896\u001b[0m \u001b[39mwith\u001b[39;00m _active_limbo_lock:\n\u001b[0;32m    897\u001b[0m     _limbo[\u001b[39mself\u001b[39m] \u001b[39m=\u001b[39m \u001b[39mself\u001b[39m\n",
      "\u001b[1;31mRuntimeError\u001b[0m: threads can only be started once"
     ]
    }
   ],
   "source": [
    "dwave.inspector.show(sampleset)"
   ]
  },
  {
   "cell_type": "code",
   "execution_count": null,
   "metadata": {},
   "outputs": [],
   "source": []
  }
 ],
 "metadata": {
  "kernelspec": {
   "display_name": "Python 3",
   "language": "python",
   "name": "python3"
  },
  "language_info": {
   "codemirror_mode": {
    "name": "ipython",
    "version": 3
   },
   "file_extension": ".py",
   "mimetype": "text/x-python",
   "name": "python",
   "nbconvert_exporter": "python",
   "pygments_lexer": "ipython3",
   "version": "3.9.13"
  }
 },
 "nbformat": 4,
 "nbformat_minor": 2
}
