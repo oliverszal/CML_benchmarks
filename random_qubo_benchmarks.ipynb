{
 "cells": [
  {
   "cell_type": "code",
   "execution_count": 1,
   "metadata": {},
   "outputs": [],
   "source": [
    "import dimod\n",
    "import neal\n",
    "import numpy as np\n",
    "import pprint\n",
    "import time\n",
    "import os\n",
    "import pickle\n",
    "import dwave_token\n",
    "import dwave.inspector\n",
    "\n",
    "from dwave.system import DWaveSampler, EmbeddingComposite, FixedEmbeddingComposite\n",
    "from dwave.system import DWaveCliqueSampler\n",
    "from dwave.system import LeapHybridCQMSampler\n",
    "\n",
    "# automatically generated embedding:\n",
    "sampler = EmbeddingComposite(DWaveSampler(token=dwave_token.value))\n",
    "clique_sampler = DWaveCliqueSampler(token=dwave_token.value)\n",
    "hybrid_sampler = LeapHybridCQMSampler(token=dwave_token.value)\n",
    "simulated_sampler = neal.SimulatedAnnealingSampler()"
   ]
  },
  {
   "cell_type": "code",
   "execution_count": 2,
   "metadata": {},
   "outputs": [],
   "source": [
    "n = 100\n",
    "scaling = 10\n",
    "\n",
    "# generate random upper triangle matrix\n",
    "Q = scaling*np.triu(-1+2*np.random.rand(n,n))\n",
    "for i in range(n): # do not allow small values\n",
    "    for j in range(i,n):\n",
    "        if abs(Q[i,j]) < 0.01:\n",
    "            Q[i,j] = np.sign(-1+2*np.random.rand() * (0.01 + 0.99*np.random.rand()))\n",
    "# print(Q)\n",
    "# convert into binary quadratic model\n",
    "bqm = dimod.BinaryQuadraticModel.from_qubo(Q)"
   ]
  },
  {
   "cell_type": "code",
   "execution_count": 3,
   "metadata": {},
   "outputs": [],
   "source": [
    "Ising = dimod.utilities.qubo_to_ising({(i,j):Q[i,j] for i in range(n) for j in range(i,n)})\n",
    "for i in range(n):\n",
    "    if abs(Ising[0][i]) < 0.01:\n",
    "        Ising[0][i] = np.sign(-1+2*np.random.rand() * (0.01 + 0.99*np.random.rand()))\n",
    "    for j in range(i+1,n):\n",
    "        if abs(Ising[1][i,j]) < 0.01:\n",
    "            Ising[1][i,j] = np.sign(-1+2*np.random.rand() * (0.01 + 0.99*np.random.rand()))\n",
    "bqm = dimod.BinaryQuadraticModel.from_ising(Ising[0],Ising[1]) # model creation"
   ]
  },
  {
   "cell_type": "code",
   "execution_count": 3,
   "metadata": {},
   "outputs": [
    {
     "name": "stdout",
     "output_type": "stream",
     "text": [
      "minimum: -1714.3343838060307\n",
      "100 variables encoded in 1247 physical qubits\n"
     ]
    }
   ],
   "source": [
    "# run calculation\n",
    "chain_strength = scaling # set chain strength close to largest QUBO entry\n",
    "sampleset = sampler.sample(\n",
    "    bqm,\n",
    "    num_reads=1000,\n",
    "    chain_strength=chain_strength\n",
    ")\n",
    "print('minimum: ' + str(sampleset.lowest().first.energy))\n",
    "print(str(n) + ' variables encoded in ' + str(len([node for nodes in sampleset.info['embedding_context']['embedding'].values() for node in nodes])) + ' physical qubits')"
   ]
  },
  {
   "cell_type": "code",
   "execution_count": 4,
   "metadata": {},
   "outputs": [
    {
     "name": "stdout",
     "output_type": "stream",
     "text": [
      "minimum: -1655.0929967267894\n",
      "100 variables encoded in 982 physical qubits\n"
     ]
    }
   ],
   "source": [
    "#comparison when running the same problem on the Clique Sampler:\n",
    "sampleset2 = clique_sampler.sample(\n",
    "    bqm,\n",
    "    num_reads=1000,\n",
    "    chain_strength=chain_strength\n",
    ")\n",
    "print('minimum: ' + str(sampleset2.lowest().first.energy))\n",
    "print(str(n) + ' variables encoded in ' + str(len([node for nodes in sampleset2.info['embedding_context']['embedding'].values() for node in nodes])) + ' physical qubits')"
   ]
  },
  {
   "cell_type": "code",
   "execution_count": 5,
   "metadata": {},
   "outputs": [
    {
     "name": "stdout",
     "output_type": "stream",
     "text": [
      "minimum: -1716.998439083452\n"
     ]
    }
   ],
   "source": [
    "#comparison when running the same problem on the Hybrid Sampler:\n",
    "cqm = dimod.ConstrainedQuadraticModel.from_bqm(bqm)\n",
    "sampleset3 = hybrid_sampler.sample_cqm(\n",
    "    cqm,\n",
    "    time_limit = 5,\n",
    "    )\n",
    "print('minimum: ' + str(sampleset3.lowest().first.energy))"
   ]
  },
  {
   "cell_type": "code",
   "execution_count": 7,
   "metadata": {},
   "outputs": [
    {
     "name": "stdout",
     "output_type": "stream",
     "text": [
      "minimum: -1716.9984390834547\n"
     ]
    }
   ],
   "source": [
    "#comparison when running the same problem on simulated annealing:\n",
    "sampleset4 = simulated_sampler.sample(\n",
    "    bqm,\n",
    "    num_reads=1000,\n",
    "    chain_strength=chain_strength\n",
    ")\n",
    "print('minimum: ' + str(sampleset4.lowest().first.energy))"
   ]
  },
  {
   "cell_type": "code",
   "execution_count": 7,
   "metadata": {},
   "outputs": [
    {
     "data": {
      "text/html": [
       "<iframe src=http://127.0.0.1:18000/?problemId=1ad302b9-9db8-4112-988b-6930b312838f width=\"100%\" height=640></iframe>"
      ],
      "text/plain": [
       "Serving Inspector on http://127.0.0.1:18000/?problemId=1ad302b9-9db8-4112-988b-6930b312838f"
      ]
     },
     "metadata": {},
     "output_type": "display_data"
    },
    {
     "data": {
      "text/plain": [
       "'http://127.0.0.1:18000/?problemId=1ad302b9-9db8-4112-988b-6930b312838f'"
      ]
     },
     "execution_count": 7,
     "metadata": {},
     "output_type": "execute_result"
    }
   ],
   "source": [
    "# print(sampleset)\n",
    "# pprint.pprint(sampleset.info)\n",
    "dwave.inspector.show(sampleset)"
   ]
  },
  {
   "cell_type": "code",
   "execution_count": 8,
   "metadata": {},
   "outputs": [
    {
     "data": {
      "text/html": [
       "<iframe src=http://127.0.0.1:18000/?problemId=21283573-8da9-48ab-9daa-adcfba011955 width=\"100%\" height=640></iframe>"
      ],
      "text/plain": [
       "Serving Inspector on http://127.0.0.1:18000/?problemId=21283573-8da9-48ab-9daa-adcfba011955"
      ]
     },
     "metadata": {},
     "output_type": "display_data"
    },
    {
     "data": {
      "text/plain": [
       "'http://127.0.0.1:18000/?problemId=21283573-8da9-48ab-9daa-adcfba011955'"
      ]
     },
     "execution_count": 8,
     "metadata": {},
     "output_type": "execute_result"
    }
   ],
   "source": [
    "dwave.inspector.show(sampleset2)"
   ]
  },
  {
   "cell_type": "code",
   "execution_count": null,
   "metadata": {},
   "outputs": [],
   "source": [
    "# save embedding:\n",
    "file_name = str(n) + '_QUBO'\n",
    "embedding_folder = 'Embeddings'\n",
    "embedding_file_name = file_name + '_embedding.pkl'\n",
    "with open(os.path.join(embedding_folder,embedding_file_name), 'wb') as f:\n",
    "    pickle.dump(sampleset.to_serializable()['info']['embedding_context']['embedding'], f)"
   ]
  },
  {
   "cell_type": "code",
   "execution_count": 5,
   "metadata": {},
   "outputs": [],
   "source": [
    "# fixed embedding:\n",
    "embedding = sampleset.info['embedding_context']['embedding']\n",
    "fixed_sampler = FixedEmbeddingComposite(child_sampler=DWaveSampler(token=dwave_token.value), embedding=embedding)"
   ]
  },
  {
   "cell_type": "code",
   "execution_count": 6,
   "metadata": {},
   "outputs": [
    {
     "name": "stdout",
     "output_type": "stream",
     "text": [
      "minimum: -1966.401191811369\n",
      "Old embedding:\n",
      "minimum: -1972.745190286486\n",
      "Time for fixed embedding calculation:3.4141244888305664\n"
     ]
    }
   ],
   "source": [
    "#compare embeddings on new QUBO:\n",
    "P = scaling*np.triu(-1+2*np.random.rand(n,n))\n",
    "bqm2 = dimod.BinaryQuadraticModel.from_qubo(P)\n",
    "samplesetP = sampler.sample(\n",
    "    bqm2,\n",
    "    num_reads=1000,\n",
    "    chain_strength=chain_strength\n",
    ")\n",
    "print('minimum: ' + str(samplesetP.lowest().first.energy))\n",
    "if samplesetP.info['embedding_context']['embedding'] != embedding:\n",
    "    print('Old embedding:')\n",
    "    time_stamp = time.time()\n",
    "    samplesetP2 = fixed_sampler.sample(\n",
    "        bqm2,\n",
    "        num_reads=1000,\n",
    "        chain_strength=chain_strength\n",
    "    )\n",
    "    print('minimum: ' + str(samplesetP2.lowest().first.energy))\n",
    "    print('Time for fixed embedding calculation:' + str(time.time()-time_stamp))"
   ]
  },
  {
   "cell_type": "code",
   "execution_count": 7,
   "metadata": {},
   "outputs": [
    {
     "data": {
      "text/html": [
       "<iframe src=http://127.0.0.1:18000/?problemId=b04e2571-0219-42af-a5d6-6ae5582db524 width=\"100%\" height=640></iframe>"
      ],
      "text/plain": [
       "Serving Inspector on http://127.0.0.1:18000/?problemId=b04e2571-0219-42af-a5d6-6ae5582db524"
      ]
     },
     "metadata": {},
     "output_type": "display_data"
    },
    {
     "data": {
      "text/plain": [
       "'http://127.0.0.1:18000/?problemId=b04e2571-0219-42af-a5d6-6ae5582db524'"
      ]
     },
     "execution_count": 7,
     "metadata": {},
     "output_type": "execute_result"
    }
   ],
   "source": [
    "dwave.inspector.show(samplesetP)"
   ]
  },
  {
   "cell_type": "code",
   "execution_count": 8,
   "metadata": {},
   "outputs": [
    {
     "data": {
      "text/html": [
       "<iframe src=http://127.0.0.1:18000/?problemId=0c536058-335a-47ff-a55d-17ba0e66cdb3 width=\"100%\" height=640></iframe>"
      ],
      "text/plain": [
       "Serving Inspector on http://127.0.0.1:18000/?problemId=0c536058-335a-47ff-a55d-17ba0e66cdb3"
      ]
     },
     "metadata": {},
     "output_type": "display_data"
    },
    {
     "data": {
      "text/plain": [
       "'http://127.0.0.1:18000/?problemId=0c536058-335a-47ff-a55d-17ba0e66cdb3'"
      ]
     },
     "execution_count": 8,
     "metadata": {},
     "output_type": "execute_result"
    }
   ],
   "source": [
    "dwave.inspector.show(samplesetP2)"
   ]
  },
  {
   "cell_type": "code",
   "execution_count": 33,
   "metadata": {},
   "outputs": [
    {
     "data": {
      "image/png": "[encoded data removed]",
      "text/plain": [
       "<Figure size 640x480 with 1 Axes>"
      ]
     },
     "metadata": {},
     "output_type": "display_data"
    }
   ],
   "source": [
    "import matplotlib.pyplot as plt\n",
    "# plot how many physical qubits where used per variables with random dense qubo (with all to all connection)\n",
    "plt.plot(\n",
    "    [5,10,15,20,25,30,35,40,50,60,70,80,90,100,110,120,130,140,150,160,170],\n",
    "    [6,16,35,56,91,123,168,204,336,451,636,820,1076,1328,1599,1867,2028,2791,3292,3635,3668]\n",
    ")\n",
    "plt.show()"
   ]
  }
 ],
 "metadata": {
  "kernelspec": {
   "display_name": "Python 3",
   "language": "python",
   "name": "python3"
  },
  "language_info": {
   "codemirror_mode": {
    "name": "ipython",
    "version": 3
   },
   "file_extension": ".py",
   "mimetype": "text/x-python",
   "name": "python",
   "nbconvert_exporter": "python",
   "pygments_lexer": "ipython3",
   "version": "3.11.7"
  }
 },
 "nbformat": 4,
 "nbformat_minor": 2
}
