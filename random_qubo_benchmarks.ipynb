{
 "cells": [
  {
   "cell_type": "code",
   "execution_count": 1,
   "metadata": {},
   "outputs": [],
   "source": [
    "import dimod\n",
    "import neal\n",
    "import numpy as np\n",
    "import pprint\n",
    "import time\n",
    "import os\n",
    "import pickle\n",
    "import dwave_token\n",
    "import dwave.inspector\n",
    "\n",
    "from dwave.system import DWaveSampler, DWaveCliqueSampler, LeapHybridCQMSampler\n",
    "from dwave.system import AutoEmbeddingComposite, FixedEmbeddingComposite, CutOffComposite\n",
    "\n",
    "# automatically generated embedding:\n",
    "sampler = AutoEmbeddingComposite(DWaveSampler(token=dwave_token.value))\n",
    "clique_sampler = DWaveCliqueSampler(token=dwave_token.value)\n",
    "hybrid_sampler = LeapHybridCQMSampler(token=dwave_token.value)\n",
    "simulated_sampler = neal.SimulatedAnnealingSampler()"
   ]
  },
  {
   "cell_type": "code",
   "execution_count": 9,
   "metadata": {},
   "outputs": [],
   "source": [
    "n = 200\n",
    "scaling = 10\n",
    "\n",
    "# generate random upper triangle matrix\n",
    "Q = scaling*np.triu(-1+2*np.random.rand(n,n))\n",
    "for i in range(n): # do not allow small values\n",
    "    for j in range(i,n):\n",
    "        if abs(Q[i,j]) < 0.01:\n",
    "            Q[i,j] = np.sign(-1+2*np.random.rand() * (0.01 + 0.99*np.random.rand()))\n",
    "# print(Q)\n",
    "# convert into binary quadratic model\n",
    "bqm = dimod.BinaryQuadraticModel.from_qubo(Q)\n",
    "chain_strength = scaling # set chain strength close to largest QUBO entry"
   ]
  },
  {
   "cell_type": "code",
   "execution_count": 3,
   "metadata": {},
   "outputs": [],
   "source": [
    "Ising = dimod.utilities.qubo_to_ising({(i,j):Q[i,j] for i in range(n) for j in range(i,n)})\n",
    "for i in range(n):\n",
    "    if abs(Ising[0][i]) < 0.01:\n",
    "        Ising[0][i] = np.sign(-1+2*np.random.rand() * (0.01 + 0.99*np.random.rand()))\n",
    "    for j in range(i+1,n):\n",
    "        if abs(Ising[1][i,j]) < 0.01:\n",
    "            Ising[1][i,j] = np.sign(-1+2*np.random.rand() * (0.01 + 0.99*np.random.rand()))\n",
    "bqm = dimod.BinaryQuadraticModel.from_ising(Ising[0],Ising[1]) # model creation"
   ]
  },
  {
   "cell_type": "code",
   "execution_count": 5,
   "metadata": {},
   "outputs": [
    {
     "name": "stdout",
     "output_type": "stream",
     "text": [
      "minimum: -1998.3383045847684\n",
      "100 variables encoded in 1267 physical qubits\n"
     ]
    }
   ],
   "source": [
    "# run calculation\n",
    "chain_strength = scaling # set chain strength close to largest QUBO entry\n",
    "sampleset = sampler.sample(\n",
    "    bqm,\n",
    "    num_reads=100,\n",
    "    chain_strength=chain_strength\n",
    ")\n",
    "print('minimum: ' + str(sampleset.lowest().first.energy))\n",
    "print(str(n) + ' variables encoded in ' + str(len([node for nodes in sampleset.info['embedding_context']['embedding'].values() for node in nodes])) + ' physical qubits')"
   ]
  },
  {
   "cell_type": "code",
   "execution_count": 4,
   "metadata": {},
   "outputs": [
    {
     "name": "stdout",
     "output_type": "stream",
     "text": [
      "minimum: -1655.0929967267894\n",
      "100 variables encoded in 982 physical qubits\n"
     ]
    }
   ],
   "source": [
    "#comparison when running the same problem on the Clique Sampler:\n",
    "sampleset2 = clique_sampler.sample(\n",
    "    bqm,\n",
    "    num_reads=1000,\n",
    "    chain_strength=chain_strength\n",
    ")\n",
    "print('minimum: ' + str(sampleset2.lowest().first.energy))\n",
    "print(str(n) + ' variables encoded in ' + str(len([node for nodes in sampleset2.info['embedding_context']['embedding'].values() for node in nodes])) + ' physical qubits')"
   ]
  },
  {
   "cell_type": "code",
   "execution_count": 10,
   "metadata": {},
   "outputs": [
    {
     "name": "stdout",
     "output_type": "stream",
     "text": [
      "minimum: -5097.6261461635395\n"
     ]
    }
   ],
   "source": [
    "#comparison when running the same problem on the Hybrid Sampler:\n",
    "cqm = dimod.ConstrainedQuadraticModel.from_bqm(bqm)\n",
    "sampleset3 = hybrid_sampler.sample_cqm(\n",
    "    cqm,\n",
    "    time_limit = 5,\n",
    "    )\n",
    "print('minimum: ' + str(sampleset3.lowest().first.energy))"
   ]
  },
  {
   "cell_type": "code",
   "execution_count": 11,
   "metadata": {},
   "outputs": [
    {
     "name": "stdout",
     "output_type": "stream",
     "text": [
      "minimum: -5097.626146163578\n"
     ]
    }
   ],
   "source": [
    "#comparison when running the same problem on simulated annealing:\n",
    "sampleset4 = simulated_sampler.sample(\n",
    "    bqm,\n",
    "    num_reads=1000,\n",
    "    chain_strength=chain_strength\n",
    ")\n",
    "print('minimum: ' + str(sampleset4.lowest().first.energy))"
   ]
  },
  {
   "cell_type": "code",
   "execution_count": 35,
   "metadata": {},
   "outputs": [
    {
     "name": "stdout",
     "output_type": "stream",
     "text": [
      "minimum: -4472.239493432756\n"
     ]
    }
   ],
   "source": [
    "# comparison when running with cutoff:\n",
    "cutoff = 2.1\n",
    "sampleset5 = CutOffComposite(sampler, cutoff).sample(\n",
    "    bqm,\n",
    "    num_reads=100,\n",
    "    chain_strength=chain_strength\n",
    ")\n",
    "print('minimum: ' + str(sampleset5.lowest().first.energy))\n",
    "#print(str(n) + ' variables encoded in ' + str(len([node for nodes in sampleset5.info['embedding_context']['embedding'].values() for node in nodes])) + ' physical qubits')"
   ]
  },
  {
   "cell_type": "code",
   "execution_count": 27,
   "metadata": {},
   "outputs": [
    {
     "data": {
      "text/plain": [
       "array([-1.35986959,  1.49402236, -1.87383377,  4.97455884, -2.91158476,\n",
       "       -8.36576968,  5.16145745, -7.69797602, -6.17214498, -8.98350261,\n",
       "       -6.74083093,  1.34696038, -9.5618722 , -8.30221462, -4.38269344,\n",
       "       -9.55596604, -8.76931816, -6.41333142,  4.29365209, -1.61229485,\n",
       "       -2.97888878, -2.33517716, -8.92780391, -4.76222707,  7.61217343,\n",
       "       -8.5297313 ,  3.96686705,  9.42041092,  6.9884969 ,  3.19704075,\n",
       "       -4.90323362, -2.17833186, -9.95593999, -8.6305805 , -8.57647533,\n",
       "        5.83738046, -5.70754126, -0.37254439, -2.64543821,  6.47134439,\n",
       "       -6.95310637, -4.73045034, -2.98902107,  6.49703702,  7.10978349,\n",
       "       -5.89225226, -5.74770741, -7.75831573, -1.90711442, -2.28116819,\n",
       "        6.17117915,  7.5293591 , -9.83379512, -5.40753776, -9.80979287,\n",
       "        6.96145782, -2.74471688,  3.63354148, -9.50148471, -2.86487486,\n",
       "        1.5543291 , -5.11621823, -7.73010301,  5.59994358, -7.69026335,\n",
       "        7.29949685,  0.06703156, -8.29419687,  6.56304288, -1.10103085,\n",
       "        6.14412307, -7.14334631, -8.06904942, -0.49485286, -4.88248267,\n",
       "        9.33949697,  7.85998955, -5.92309832,  6.80584983, -0.74271916,\n",
       "       -6.14115819, -7.15210655, -0.7492965 , -3.10609203,  6.41621723,\n",
       "       -1.74128136,  3.50917328,  1.67520273,  8.53899074,  4.69131392,\n",
       "       -9.3157587 , -4.75087089, -6.88356637,  6.08952049, -9.4020832 ,\n",
       "        7.42150601,  6.92826519,  8.457395  ,  0.50392724,  9.90748454,\n",
       "       -5.77198054,  3.79248832,  1.82634198, -5.80908524,  1.30106741,\n",
       "        0.91444371, -8.79169106,  4.17777749,  3.4550531 ,  6.3034768 ,\n",
       "       -2.02796433, -4.89034911,  5.56271563, -8.67999057,  8.31471492,\n",
       "        3.8161982 , -4.15056204,  2.5563803 , -5.49250685,  2.17085225,\n",
       "        3.83693983, -6.24764446, -5.87716175, -7.76957307, -8.98122465,\n",
       "       -7.39619358, -6.21120558, -5.65724009,  1.17394708,  8.95553403,\n",
       "        9.97699812,  0.27512418,  1.34612173, -6.78186534,  0.68089487,\n",
       "        4.59954091,  7.45324667, -5.5104736 , -4.74558355,  8.71186313,\n",
       "       -1.11111908,  7.04800061,  9.56823771,  8.16776861, -4.42588962,\n",
       "       -2.94253489,  7.97014065,  4.96844412, -6.41426117,  2.75060862,\n",
       "       -3.82214713,  9.07205289,  2.02486958,  4.08739423,  1.42663841,\n",
       "        9.22376441, -2.37189389,  4.55124739,  8.3051599 ,  8.01797668,\n",
       "        4.42251234,  6.55222737,  3.01488272, -5.83917445, -6.35002051,\n",
       "       -2.51264777, -5.61451303, -6.4418833 ,  6.37117998,  0.34868871,\n",
       "       -9.54982469, -7.34406819, -1.08245359,  8.76735705,  9.88298492,\n",
       "        7.7300167 , -7.01186464, -3.16876061, -7.49606731, -8.64129445,\n",
       "       -1.75108301,  4.77821789, -1.74941058,  4.54979635, -6.00393056,\n",
       "       -6.93364421,  5.07231689,  5.31243464, -1.00827275,  5.54397724,\n",
       "       -5.20238471, -2.21043798, -6.53759811, -7.85793394,  7.38998731,\n",
       "       -0.99796827, -3.03027111,  2.08779382, -6.88694155, -7.45735722])"
      ]
     },
     "execution_count": 27,
     "metadata": {},
     "output_type": "execute_result"
    }
   ],
   "source": [
    "np.diag(Q)"
   ]
  },
  {
   "cell_type": "code",
   "execution_count": 11,
   "metadata": {},
   "outputs": [
    {
     "data": {
      "text/html": [
       "<iframe src=http://127.0.0.1:18000/?problemId=342a3cc5-f4c5-4719-abc0-daab1b927011 width=\"100%\" height=640></iframe>"
      ],
      "text/plain": [
       "Serving Inspector on http://127.0.0.1:18000/?problemId=342a3cc5-f4c5-4719-abc0-daab1b927011"
      ]
     },
     "metadata": {},
     "output_type": "display_data"
    },
    {
     "data": {
      "text/plain": [
       "'http://127.0.0.1:18000/?problemId=342a3cc5-f4c5-4719-abc0-daab1b927011'"
      ]
     },
     "execution_count": 11,
     "metadata": {},
     "output_type": "execute_result"
    }
   ],
   "source": [
    "# print(sampleset)\n",
    "# pprint.pprint(sampleset.info)\n",
    "dwave.inspector.show(sampleset)"
   ]
  },
  {
   "cell_type": "code",
   "execution_count": 12,
   "metadata": {},
   "outputs": [
    {
     "ename": "ValueError",
     "evalue": "invalid combination of arguments provided: if data capture not enabled, problem/response/solver have to be specified; also, make sure a structured problem is being inspected",
     "output_type": "error",
     "traceback": [
      "\u001b[0;31m---------------------------------------------------------------------------\u001b[0m",
      "\u001b[0;31mValueError\u001b[0m                                Traceback (most recent call last)",
      "Cell \u001b[0;32mIn[12], line 1\u001b[0m\n\u001b[0;32m----> 1\u001b[0m \u001b[43mdwave\u001b[49m\u001b[38;5;241;43m.\u001b[39;49m\u001b[43minspector\u001b[49m\u001b[38;5;241;43m.\u001b[39;49m\u001b[43mshow\u001b[49m\u001b[43m(\u001b[49m\u001b[43msampleset5\u001b[49m\u001b[43m)\u001b[49m\n",
      "File \u001b[0;32m~/.local/lib/python3.11/site-packages/dwave/inspector/__init__.py:190\u001b[0m, in \u001b[0;36mshow\u001b[0;34m(*args, **kwargs)\u001b[0m\n\u001b[1;32m    188\u001b[0m block \u001b[38;5;241m=\u001b[39m kwargs\u001b[38;5;241m.\u001b[39mpop(\u001b[38;5;124m'\u001b[39m\u001b[38;5;124mblock\u001b[39m\u001b[38;5;124m'\u001b[39m, Block\u001b[38;5;241m.\u001b[39mONCE)\n\u001b[1;32m    189\u001b[0m timeout \u001b[38;5;241m=\u001b[39m kwargs\u001b[38;5;241m.\u001b[39mpop(\u001b[38;5;124m'\u001b[39m\u001b[38;5;124mtimeout\u001b[39m\u001b[38;5;124m'\u001b[39m, \u001b[38;5;28;01mNone\u001b[39;00m)\n\u001b[0;32m--> 190\u001b[0m data \u001b[38;5;241m=\u001b[39m \u001b[43mfrom_objects\u001b[49m\u001b[43m(\u001b[49m\u001b[38;5;241;43m*\u001b[39;49m\u001b[43margs\u001b[49m\u001b[43m,\u001b[49m\u001b[43m \u001b[49m\u001b[38;5;241;43m*\u001b[39;49m\u001b[38;5;241;43m*\u001b[39;49m\u001b[43mkwargs\u001b[49m\u001b[43m)\u001b[49m\n\u001b[1;32m    191\u001b[0m id_ \u001b[38;5;241m=\u001b[39m push_inspector_data(data)\n\u001b[1;32m    192\u001b[0m \u001b[38;5;28;01mreturn\u001b[39;00m open_problem(id_, block\u001b[38;5;241m=\u001b[39mblock, timeout\u001b[38;5;241m=\u001b[39mtimeout)\n",
      "File \u001b[0;32m~/.local/lib/python3.11/site-packages/dwave/inspector/adapters.py:869\u001b[0m, in \u001b[0;36mfrom_objects\u001b[0;34m(*args, **kwargs)\u001b[0m\n\u001b[1;32m    864\u001b[0m \u001b[38;5;28;01mif\u001b[39;00m bqm \u001b[38;5;129;01mis\u001b[39;00m \u001b[38;5;129;01mnot\u001b[39;00m \u001b[38;5;28;01mNone\u001b[39;00m \u001b[38;5;129;01mand\u001b[39;00m sampleset \u001b[38;5;129;01mis\u001b[39;00m \u001b[38;5;129;01mnot\u001b[39;00m \u001b[38;5;28;01mNone\u001b[39;00m \u001b[38;5;129;01mand\u001b[39;00m sampler \u001b[38;5;129;01mis\u001b[39;00m \u001b[38;5;129;01mnot\u001b[39;00m \u001b[38;5;28;01mNone\u001b[39;00m:\n\u001b[1;32m    865\u001b[0m     \u001b[38;5;28;01mreturn\u001b[39;00m from_bqm_sampleset(\n\u001b[1;32m    866\u001b[0m         bqm\u001b[38;5;241m=\u001b[39mbqm, sampleset\u001b[38;5;241m=\u001b[39msampleset, sampler\u001b[38;5;241m=\u001b[39msampler,\n\u001b[1;32m    867\u001b[0m         embedding_context\u001b[38;5;241m=\u001b[39membedding_context, warnings\u001b[38;5;241m=\u001b[39mwarnings)\n\u001b[0;32m--> 869\u001b[0m \u001b[38;5;28;01mraise\u001b[39;00m \u001b[38;5;167;01mValueError\u001b[39;00m(\n\u001b[1;32m    870\u001b[0m     \u001b[38;5;124m\"\u001b[39m\u001b[38;5;124minvalid combination of arguments provided: if data capture not \u001b[39m\u001b[38;5;124m\"\u001b[39m\n\u001b[1;32m    871\u001b[0m     \u001b[38;5;124m\"\u001b[39m\u001b[38;5;124menabled, problem/response/solver have to be specified; \u001b[39m\u001b[38;5;124m\"\u001b[39m\n\u001b[1;32m    872\u001b[0m     \u001b[38;5;124m\"\u001b[39m\u001b[38;5;124malso, make sure a structured problem is being inspected\u001b[39m\u001b[38;5;124m\"\u001b[39m)\n",
      "\u001b[0;31mValueError\u001b[0m: invalid combination of arguments provided: if data capture not enabled, problem/response/solver have to be specified; also, make sure a structured problem is being inspected"
     ]
    }
   ],
   "source": [
    "dwave.inspector.show(sampleset5)"
   ]
  },
  {
   "cell_type": "code",
   "execution_count": null,
   "metadata": {},
   "outputs": [],
   "source": [
    "# save embedding:\n",
    "file_name = str(n) + '_QUBO'\n",
    "embedding_folder = 'Embeddings'\n",
    "embedding_file_name = file_name + '_embedding.pkl'\n",
    "with open(os.path.join(embedding_folder,embedding_file_name), 'wb') as f:\n",
    "    pickle.dump(sampleset.to_serializable()['info']['embedding_context']['embedding'], f)"
   ]
  },
  {
   "cell_type": "code",
   "execution_count": 5,
   "metadata": {},
   "outputs": [],
   "source": [
    "# fixed embedding:\n",
    "embedding = sampleset.info['embedding_context']['embedding']\n",
    "fixed_sampler = FixedEmbeddingComposite(child_sampler=DWaveSampler(token=dwave_token.value), embedding=embedding)"
   ]
  },
  {
   "cell_type": "code",
   "execution_count": 6,
   "metadata": {},
   "outputs": [
    {
     "name": "stdout",
     "output_type": "stream",
     "text": [
      "minimum: -1966.401191811369\n",
      "Old embedding:\n",
      "minimum: -1972.745190286486\n",
      "Time for fixed embedding calculation:3.4141244888305664\n"
     ]
    }
   ],
   "source": [
    "#compare embeddings on new QUBO:\n",
    "P = scaling*np.triu(-1+2*np.random.rand(n,n))\n",
    "bqm2 = dimod.BinaryQuadraticModel.from_qubo(P)\n",
    "samplesetP = sampler.sample(\n",
    "    bqm2,\n",
    "    num_reads=1000,\n",
    "    chain_strength=chain_strength\n",
    ")\n",
    "print('minimum: ' + str(samplesetP.lowest().first.energy))\n",
    "if samplesetP.info['embedding_context']['embedding'] != embedding:\n",
    "    print('Old embedding:')\n",
    "    time_stamp = time.time()\n",
    "    samplesetP2 = fixed_sampler.sample(\n",
    "        bqm2,\n",
    "        num_reads=1000,\n",
    "        chain_strength=chain_strength\n",
    "    )\n",
    "    print('minimum: ' + str(samplesetP2.lowest().first.energy))\n",
    "    print('Time for fixed embedding calculation:' + str(time.time()-time_stamp))"
   ]
  },
  {
   "cell_type": "code",
   "execution_count": 7,
   "metadata": {},
   "outputs": [
    {
     "data": {
      "text/html": [
       "<iframe src=http://127.0.0.1:18000/?problemId=b04e2571-0219-42af-a5d6-6ae5582db524 width=\"100%\" height=640></iframe>"
      ],
      "text/plain": [
       "Serving Inspector on http://127.0.0.1:18000/?problemId=b04e2571-0219-42af-a5d6-6ae5582db524"
      ]
     },
     "metadata": {},
     "output_type": "display_data"
    },
    {
     "data": {
      "text/plain": [
       "'http://127.0.0.1:18000/?problemId=b04e2571-0219-42af-a5d6-6ae5582db524'"
      ]
     },
     "execution_count": 7,
     "metadata": {},
     "output_type": "execute_result"
    }
   ],
   "source": [
    "dwave.inspector.show(samplesetP)"
   ]
  },
  {
   "cell_type": "code",
   "execution_count": 8,
   "metadata": {},
   "outputs": [
    {
     "data": {
      "text/html": [
       "<iframe src=http://127.0.0.1:18000/?problemId=0c536058-335a-47ff-a55d-17ba0e66cdb3 width=\"100%\" height=640></iframe>"
      ],
      "text/plain": [
       "Serving Inspector on http://127.0.0.1:18000/?problemId=0c536058-335a-47ff-a55d-17ba0e66cdb3"
      ]
     },
     "metadata": {},
     "output_type": "display_data"
    },
    {
     "data": {
      "text/plain": [
       "'http://127.0.0.1:18000/?problemId=0c536058-335a-47ff-a55d-17ba0e66cdb3'"
      ]
     },
     "execution_count": 8,
     "metadata": {},
     "output_type": "execute_result"
    }
   ],
   "source": [
    "dwave.inspector.show(samplesetP2)"
   ]
  },
  {
   "cell_type": "code",
   "execution_count": 33,
   "metadata": {},
   "outputs": [
    {
     "data": {
      "image/png": "[encoded data removed]",
      "text/plain": [
       "<Figure size 640x480 with 1 Axes>"
      ]
     },
     "metadata": {},
     "output_type": "display_data"
    }
   ],
   "source": [
    "import matplotlib.pyplot as plt\n",
    "# plot how many physical qubits where used per variables with random dense qubo (with all to all connection)\n",
    "plt.plot(\n",
    "    [5,10,15,20,25,30,35,40,50,60,70,80,90,100,110,120,130,140,150,160,170],\n",
    "    [6,16,35,56,91,123,168,204,336,451,636,820,1076,1328,1599,1867,2028,2791,3292,3635,3668]\n",
    ")\n",
    "plt.show()"
   ]
  }
 ],
 "metadata": {
  "kernelspec": {
   "display_name": "Python 3",
   "language": "python",
   "name": "python3"
  },
  "language_info": {
   "codemirror_mode": {
    "name": "ipython",
    "version": 3
   },
   "file_extension": ".py",
   "mimetype": "text/x-python",
   "name": "python",
   "nbconvert_exporter": "python",
   "pygments_lexer": "ipython3",
   "version": "3.11.9"
  }
 },
 "nbformat": 4,
 "nbformat_minor": 2
}
