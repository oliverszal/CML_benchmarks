{
 "cells": [
  {
   "cell_type": "code",
   "execution_count": 1,
   "metadata": {
    "metadata": {}
   },
   "outputs": [],
   "source": [
    "import numpy as np\n",
    "import pickle\n",
    "import dimod\n",
    "import dwave_token\n",
    "import dwave.inspector\n",
    "\n",
    "from dwave.system import DWaveSampler, EmbeddingComposite, FixedEmbeddingComposite\n",
    "from dwave.system import DWaveCliqueSampler\n",
    "from dwave.system import LeapHybridCQMSampler\n",
    "\n",
    "# automatically generated embedding:\n",
    "sampler = EmbeddingComposite(DWaveSampler(token=dwave_token.value))\n",
    "clique_sampler = DWaveCliqueSampler(token=dwave_token.value)\n",
    "hybrid_sampler = LeapHybridCQMSampler(token=dwave_token.value)"
   ]
  },
  {
   "cell_type": "code",
   "execution_count": 41,
   "metadata": {
    "metadata": {}
   },
   "outputs": [],
   "source": [
    "def make_QUBO_upper_triangle(Q):\n",
    "    Q = np.array(Q)\n",
    "    return(np.transpose(Q - np.triu(Q)) + np.triu(Q))\n",
    "\n",
    "def weighted_clustering_heuristic(distances, k, delta, n_max, solver='DWAVE', time_limit=0, penalty=False, fix_variables=False):\n",
    "    N = len(distances)\n",
    "    if penalty == False and (solver != 'hybrid' and solver != 'CPLEX'):\n",
    "        penalty = True\n",
    "    if penalty == True:\n",
    "        penalty = np.max(distances)* (N - k)\n",
    "    if solver == 'CPLEX':\n",
    "        model = pyo.AbstractModel()\n",
    "        model.points = pyo.RangeSet(0, N-1)\n",
    "        model.unique_pairs = pyo.Set(initialize=model.points*model.points, filter = lambda model, p1, p2: p1 < p2)\n",
    "        model.clusters = pyo.RangeSet(1,k)\n",
    "        model.d = pyo.Param(model.unique_pairs, initialize=lambda model, p1, p2: distances[p1,p2])\n",
    "        model.lambda_n = pyo.Param(default=0, within=pyo.NonNegativeReals)\n",
    "        model.x = pyo.Var(model.points*model.clusters, within=pyo.Binary)\n",
    "        def obj_0(model,g):\n",
    "            return(sum(model.d[i,j]*model.x[i,g]*model.x[j,g] for i,j in model.unique_pairs))\n",
    "        def N_cluster(model,g):\n",
    "            N_g = sum(model.x[i,g] for i in model.points)\n",
    "            return(N_g * (N_g-1))\n",
    "        def uniqueness(model,i):\n",
    "            return(sum(model.x[i,g] for g in model.clusters) == 1)\n",
    "        if penalty:\n",
    "            model.obj = pyo.Objective(rule=lambda model: sum(obj_0(model,g) - model.lambda_n * N_cluster(model,g) for g in model.clusters) + penalty * sum((sum(model.x[i,g] for g in model.clusters) - 1)**2 for i in model.points))\n",
    "        else:\n",
    "            model.obj = pyo.Objective(rule=lambda model: sum(obj_0(model,g) - model.lambda_n * N_cluster(model,g) for g in model.clusters))\n",
    "            model.uniqueness = pyo.Constraint(model.points, rule=uniqueness)\n",
    "        opt = pyo.SolverFactory('cplex', tee=False)\n",
    "        if time_limit != 0:\n",
    "            opt.options['timelimit'] = time_limit\n",
    "    else:\n",
    "        QUBO_core = np.triu([[distances[i,j] if g == l else 0 for g in range(k) for i in range(N)] for l in range(k) for j in range(N)])\n",
    "        bqm_core = dimod.BinaryQuadraticModel.from_qubo(QUBO_core)\n",
    "        if solver != 'hybrid':\n",
    "            QUBO_penalty = penalty * make_QUBO_upper_triangle([[(-1 if g == l else 1) if i == j else 0 for g in range(k) for i in range(N)] for l in range(k) for j in range(N)])\n",
    "            bqm_core.add_linear_from_array(np.diag(QUBO_penalty))\n",
    "            bqm_core.add_quadratic_from_dense(QUBO_penalty - np.diag(np.diag(QUBO_penalty)))\n",
    "            bqm_core.offset += penalty*N\n",
    "        def obj_0(values,g):\n",
    "            return(sum(distances[i,j] * values[i,g] * values[j,g] for i in range(N) for j in range(i,N)))\n",
    "        def N_cluster(values,g):\n",
    "            N_g = sum(values[i,g] for i in range(N))\n",
    "            return(N_g * (N_g-1))\n",
    "        if solver == 'clique':\n",
    "            DWavesampler = clique_sampler\n",
    "        elif solver == 'hybrid':\n",
    "            def uniqueness(i):\n",
    "                return([g*N + i for g in range(k)])\n",
    "        else:\n",
    "            DWavesampler = sampler\n",
    "    lambdas = [0]\n",
    "    ## start loop:\n",
    "    for n in range(n_max+1):\n",
    "        print('n = ', n)\n",
    "        lambda_n = lambdas[-1]\n",
    "        if solver == 'CPLEX':\n",
    "            instance = model.create_instance(data={None: {'lambda_n': {None: lambda_n}}})\n",
    "            if fix_variables:\n",
    "                for g in model.clusters:\n",
    "                    instance.x[0,g].fix(int(g==1))\n",
    "            results = opt.solve(instance)\n",
    "            lambda_n1 = sum(pyo.value(obj_0(instance,g)/N_cluster(instance,g)) if pyo.value(sum(instance.x[i,g] for i in instance.points)) > 1 else 0 for g in instance.clusters)\n",
    "        else:\n",
    "            QUBO_lambda = - lambda_n * make_QUBO_upper_triangle([[1 if (g == l and i != j) else 0 for g in range(k) for i in range(N)] for l in range(k) for j in range(N)])\n",
    "            bqm = dimod.as_bqm(bqm_core, copy=True)\n",
    "            bqm.add_linear_from_array(np.diag(QUBO_lambda))\n",
    "            bqm.add_quadratic_from_dense(QUBO_lambda - np.diag(np.diag(QUBO_lambda)))\n",
    "            if fix_variables:\n",
    "                bqm.fix_variables({g*N:int(g==0) for g in range(k)})\n",
    "            if solver == 'hybrid':\n",
    "                cqm = dimod.ConstrainedQuadraticModel.from_bqm(bqm)\n",
    "                for i in range(int(fix_variables), N):\n",
    "                    cqm.add_discrete(uniqueness(i), label='uniqueness' + str(i))\n",
    "                sampleset = hybrid_sampler.sample_cqm(\n",
    "                    cqm,\n",
    "                    time_limit = time_limit,\n",
    "                )\n",
    "            else:\n",
    "                chain_strength = max(bqm.quadratic.values())\n",
    "                sampleset = DWavesampler.sample(\n",
    "                    bqm,\n",
    "                    num_reads=1000,\n",
    "                    chain_strength=chain_strength\n",
    "                )\n",
    "            if fix_variables:\n",
    "                values = {(i,g): int(g==0) if i == 0 else sampleset.lowest().samples()[0][g*N+i] for g in range(k) for i in range(0,N)}\n",
    "            else:\n",
    "                values = {(i,g): sampleset.lowest().samples()[0][g*N+i] for g in range(k) for i in range(N)}\n",
    "            lambda_n1 = sum(obj_0(values,g)/N_cluster(values,g) if sum(values[i,g] for i in range(N)) > 1 else 0 for g in range(k))\n",
    "        lambdas += [lambda_n1]\n",
    "        print('lambda = ',lambda_n1)\n",
    "        if abs(lambdas[-1] - lambdas[-2]) <= delta:\n",
    "            break\n",
    "    return(lambdas)"
   ]
  },
  {
   "cell_type": "code",
   "execution_count": 42,
   "metadata": {},
   "outputs": [
    {
     "name": "stdout",
     "output_type": "stream",
     "text": [
      "n =  0\n",
      "lambda =  1.118033988749895\n",
      "n =  1\n",
      "lambda =  0.5618033988749895\n",
      "n =  2\n",
      "lambda =  0.25\n",
      "n =  3\n",
      "lambda =  0.25\n"
     ]
    },
    {
     "ename": "ValueError",
     "evalue": "too many values to unpack (expected 2)",
     "output_type": "error",
     "traceback": [
      "\u001b[0;31m---------------------------------------------------------------------------\u001b[0m",
      "\u001b[0;31mValueError\u001b[0m                                Traceback (most recent call last)",
      "Cell \u001b[0;32mIn[42], line 4\u001b[0m\n\u001b[1;32m      1\u001b[0m distances \u001b[38;5;241m=\u001b[39m np\u001b[38;5;241m.\u001b[39marray([[\u001b[38;5;241m0\u001b[39m,\u001b[38;5;241m1\u001b[39m,\u001b[38;5;241m1\u001b[39m,\u001b[38;5;241m1\u001b[39m,np\u001b[38;5;241m.\u001b[39msqrt(\u001b[38;5;241m5\u001b[39m)],[\u001b[38;5;241m1\u001b[39m,\u001b[38;5;241m0\u001b[39m,\u001b[38;5;241m0\u001b[39m,\u001b[38;5;241m0\u001b[39m,\u001b[38;5;241m2\u001b[39m],[\u001b[38;5;241m1\u001b[39m,\u001b[38;5;241m0\u001b[39m,\u001b[38;5;241m0\u001b[39m,\u001b[38;5;241m0\u001b[39m,\u001b[38;5;241m2\u001b[39m],[\u001b[38;5;241m1\u001b[39m,\u001b[38;5;241m0\u001b[39m,\u001b[38;5;241m0\u001b[39m,\u001b[38;5;241m0\u001b[39m,\u001b[38;5;241m2\u001b[39m],[np\u001b[38;5;241m.\u001b[39msqrt(\u001b[38;5;241m5\u001b[39m),\u001b[38;5;241m2\u001b[39m,\u001b[38;5;241m2\u001b[39m,\u001b[38;5;241m2\u001b[39m,\u001b[38;5;241m0\u001b[39m]])\n\u001b[1;32m      2\u001b[0m \u001b[38;5;66;03m#lambdas = weighted_clustering_heuristic(distances, k=2, delta=0, n_max=5, solver='hybrid', time_limit=5, penalty=False, fix_variables=True)\u001b[39;00m\n\u001b[1;32m      3\u001b[0m \u001b[38;5;66;03m#print('lambdas:', lambdas)\u001b[39;00m\n\u001b[0;32m----> 4\u001b[0m bqm, cqm \u001b[38;5;241m=\u001b[39m weighted_clustering_heuristic(distances, k\u001b[38;5;241m=\u001b[39m\u001b[38;5;241m2\u001b[39m, delta\u001b[38;5;241m=\u001b[39m\u001b[38;5;241m0\u001b[39m, n_max\u001b[38;5;241m=\u001b[39m\u001b[38;5;241m5\u001b[39m, solver\u001b[38;5;241m=\u001b[39m\u001b[38;5;124m'\u001b[39m\u001b[38;5;124mhybrid\u001b[39m\u001b[38;5;124m'\u001b[39m, time_limit\u001b[38;5;241m=\u001b[39m\u001b[38;5;241m5\u001b[39m, penalty\u001b[38;5;241m=\u001b[39m\u001b[38;5;28;01mFalse\u001b[39;00m, fix_variables\u001b[38;5;241m=\u001b[39m\u001b[38;5;28;01mTrue\u001b[39;00m)\n",
      "\u001b[0;31mValueError\u001b[0m: too many values to unpack (expected 2)"
     ]
    }
   ],
   "source": [
    "distances = np.array([[0,1,1,1,np.sqrt(5)],[1,0,0,0,2],[1,0,0,0,2],[1,0,0,0,2],[np.sqrt(5),2,2,2,0]])\n",
    "lambdas = weighted_clustering_heuristic(distances, k=2, delta=0, n_max=5, solver='hybrid', time_limit=5, penalty=False, fix_variables=True)\n",
    "print('lambdas:', lambdas)"
   ]
  }
 ],
 "metadata": {
  "kernelspec": {
   "display_name": "Python 3",
   "language": "python",
   "name": "python3"
  },
  "language_info": {
   "codemirror_mode": {
    "name": "ipython",
    "version": 3
   },
   "file_extension": ".py",
   "mimetype": "text/x-python",
   "name": "python",
   "nbconvert_exporter": "python",
   "pygments_lexer": "ipython3",
   "version": "3.11.7"
  }
 },
 "nbformat": 4,
 "nbformat_minor": 2
}
